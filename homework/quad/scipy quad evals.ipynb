{
 "cells": [
  {
   "cell_type": "code",
   "execution_count": 16,
   "id": "22acd738",
   "metadata": {},
   "outputs": [
    {
     "name": "stdout",
     "output_type": "stream",
     "text": [
      "evaluations for int_0^1dx sqrt(x) : 231\n",
      "evaluations for int_0^1dx ln(x)/sqrt(x) : 315\n"
     ]
    }
   ],
   "source": [
    "import numpy as np\n",
    "import scipy.integrate as ssci\n",
    "f1 = lambda x: 1/np.sqrt(x)\n",
    "f2 = lambda x: np.log(x)/np.sqrt(x)\n",
    "\n",
    "epsabs = 1e-4\n",
    "epsrel = 1e-4\n",
    "res1 = ssci.quad(f1, 0,1,full_output=1, epsabs=epsabs, epsrel=epsrel)\n",
    "print(f\"evaluations for int_0^1dx sqrt(x) : {res1[2][\"neval\"]}\")\n",
    "\n",
    "\n",
    "res2 = ssci.quad(f2, 0,1,full_output=1, epsabs=epsabs, epsrel=epsrel)\n",
    "print(f\"evaluations for int_0^1dx ln(x)/sqrt(x) : {res2[2][\"neval\"]}\")"
   ]
  },
  {
   "cell_type": "code",
   "execution_count": 19,
   "id": "47a93a3f",
   "metadata": {},
   "outputs": [
    {
     "name": "stdout",
     "output_type": "stream",
     "text": [
      "evaluations for int_-inf^inf dx 1/sqrt(2pi)*exp(-0.5x*x) : 150\n",
      "evaluations for int_0^1dx 1/x/x : 15\n",
      "evaluations for int_0^1dx 1/(x+1)/sqrt(x) : 285\n"
     ]
    }
   ],
   "source": [
    "f3 = lambda x: 1/np.sqrt(2*np.pi)*np.exp(-0.5*x**2)\n",
    "f4 = lambda x: 1/x**2\n",
    "f5 = lambda x: 1/(x + 1)/np.sqrt(x)\n",
    "\n",
    "epsabs = 1e-4\n",
    "epsrel = 1e-4\n",
    "\n",
    "res3 = ssci.quad(f3, -np.inf,np.inf,full_output=1, epsabs=epsabs, epsrel=epsrel)\n",
    "print(f\"evaluations for int_-inf^inf dx 1/sqrt(2pi)*exp(-0.5x*x) : {res3[2][\"neval\"]}\")\n",
    "\n",
    "\n",
    "res4 = ssci.quad(f4, 1,np.inf,full_output=1, epsabs=epsabs, epsrel=epsrel)\n",
    "print(f\"evaluations for int_0^1dx 1/x/x : {res4[2][\"neval\"]}\")\n",
    "\n",
    "res5 = ssci.quad(f5, 0,np.inf,full_output=1, epsabs=epsabs, epsrel=epsrel)\n",
    "print(f\"evaluations for int_0^1dx 1/(x+1)/sqrt(x) : {res5[2][\"neval\"]}\")"
   ]
  }
 ],
 "metadata": {
  "kernelspec": {
   "display_name": "Python 3",
   "language": "python",
   "name": "python3"
  },
  "language_info": {
   "codemirror_mode": {
    "name": "ipython",
    "version": 3
   },
   "file_extension": ".py",
   "mimetype": "text/x-python",
   "name": "python",
   "nbconvert_exporter": "python",
   "pygments_lexer": "ipython3",
   "version": "3.13.0"
  }
 },
 "nbformat": 4,
 "nbformat_minor": 5
}
